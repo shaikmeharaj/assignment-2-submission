{
 "cells": [
  {
   "cell_type": "code",
   "execution_count": 1,
   "metadata": {},
   "outputs": [
    {
     "name": "stdout",
     "output_type": "stream",
     "text": [
      "Python is great and Java also\n"
     ]
    }
   ],
   "source": [
    "from collections import Counter \n",
    "  \n",
    "def remov_duplicates(input): \n",
    "  \n",
    "    # split input string separated by space \n",
    "    input = input.split(\" \") \n",
    "  \n",
    "    # joins two adjacent elements in iterable way \n",
    "    for i in range(0, len(input)): \n",
    "        input[i] = \"\".join(input[i]) \n",
    "  \n",
    "    # now create dictionary using counter method \n",
    "    # which will have strings as key and their  \n",
    "    # frequencies as value \n",
    "    UniqW = Counter(input) \n",
    "  \n",
    "    # joins two adjacent elements in iterable way \n",
    "    s = \" \".join(UniqW.keys()) \n",
    "    print (s) \n",
    "  \n",
    "# Driver program \n",
    "if __name__ == \"__main__\": \n",
    "    input = 'Python is great and Java is also great'\n",
    "    remov_duplicates(input) "
   ]
  },
  {
   "cell_type": "code",
   "execution_count": 2,
   "metadata": {},
   "outputs": [
    {
     "ename": "SyntaxError",
     "evalue": "unexpected EOF while parsing (<ipython-input-2-14f201bf50b1>, line 12)",
     "output_type": "error",
     "traceback": [
      "\u001b[1;36m  File \u001b[1;32m\"<ipython-input-2-14f201bf50b1>\"\u001b[1;36m, line \u001b[1;32m12\u001b[0m\n\u001b[1;33m    print (\"Occurrence of all characters in GeeksforGeeks is :\\n \"+ str(out)\u001b[0m\n\u001b[1;37m                                                                            ^\u001b[0m\n\u001b[1;31mSyntaxError\u001b[0m\u001b[1;31m:\u001b[0m unexpected EOF while parsing\n"
     ]
    }
   ],
   "source": [
    "# Python3 code to program to find occurrence \n",
    "# to each character in given string \n",
    "  \n",
    "# initializing string  \n",
    "inp_str = \"GeeksforGeeks\"\n",
    "  \n",
    "# using set() + count() to get count  \n",
    "# of each element in string  \n",
    "out = {x : inp_str.count(x) for x in set(inp_str )}  \n",
    "  \n",
    "# printing result  \n",
    "print (\"Occurrence of all characters in GeeksforGeeks is :\\n \"+ str(out)"
   ]
  },
  {
   "cell_type": "code",
   "execution_count": null,
   "metadata": {},
   "outputs": [],
   "source": []
  }
 ],
 "metadata": {
  "kernelspec": {
   "display_name": "Python 3",
   "language": "python",
   "name": "python3"
  },
  "language_info": {
   "codemirror_mode": {
    "name": "ipython",
    "version": 3
   },
   "file_extension": ".py",
   "mimetype": "text/x-python",
   "name": "python",
   "nbconvert_exporter": "python",
   "pygments_lexer": "ipython3",
   "version": "3.8.5"
  }
 },
 "nbformat": 4,
 "nbformat_minor": 4
}
